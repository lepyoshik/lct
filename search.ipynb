{
 "nbformat": 4,
 "nbformat_minor": 0,
 "metadata": {
  "colab": {
   "provenance": []
  },
  "kernelspec": {
   "name": "python3",
   "display_name": "Python 3"
  },
  "language_info": {
   "name": "python"
  }
 },
 "cells": [
  {
   "cell_type": "code",
   "source": [
    "import nltk\n",
    "from nltk.corpus import stopwords\n",
    "from nltk.stem import WordNetLemmatizer, SnowballStemmer\n",
    "import string\n",
    "import emoji\n",
    "from sentence_transformers import SentenceTransformer\n",
    "from langdetect import detect, DetectorFactory"
   ],
   "metadata": {
    "colab": {
     "base_uri": "https://localhost:8080/"
    },
    "id": "wGdeI8DlHG98",
    "outputId": "ff8f1d5b-ce2e-48a8-d2fa-b6bd687d9e2a"
   },
   "outputs": [],
   "execution_count": null
  },
  {
   "metadata": {},
   "cell_type": "code",
   "source": [
    "DetectorFactory.seed = 0\n",
    "\n",
    "nltk.download('punkt')\n",
    "nltk.download('wordnet')\n",
    "nltk.download('stopwords')\n",
    "\n",
    "lemmatizer = WordNetLemmatizer()\n",
    "stemmer_ru = SnowballStemmer('russian')\n",
    "stemmer_en = SnowballStemmer('english')\n",
    "\n",
    "stop_words_russian = set(stopwords.words('russian'))\n",
    "stop_words_english = set(stopwords.words('english'))\n",
    "\n",
    "model = SentenceTransformer('sentence-transformers/all-MiniLM-L6-v2')"
   ],
   "outputs": [],
   "execution_count": null
  },
  {
   "cell_type": "code",
   "source": [
    "def preprocess_text(text, lang):\n",
    "    text = text.translate(str.maketrans('', '', string.punctuation))\n",
    "    text = emoji.demojize(text)\n",
    "    text = text.lower()\n",
    "    tokens = nltk.word_tokenize(text)\n",
    "\n",
    "    if lang == 'russian':\n",
    "        stemmer = stemmer_ru\n",
    "        stop_words = stop_words_russian\n",
    "    else:\n",
    "        stemmer = stemmer_en\n",
    "        stop_words = stop_words_english\n",
    "\n",
    "    tokens = [stemmer.stem(word) for word in tokens if word not in stop_words and len(word) > 1]\n",
    "\n",
    "    normalized_text = ' '.join(tokens)\n",
    "    return normalized_text\n",
    "\n",
    "def get_embedding(text):\n",
    "    return model.encode(text)\n",
    "\n",
    "def generate_hashtags(text):\n",
    "    words = text.split()\n",
    "    hashtags = ['#' + word for word in words if len(word) > 1]\n",
    "    return hashtags\n",
    "\n",
    "def process_query(query):\n",
    "    lang = detect(query)\n",
    "    normalized_query = preprocess_text(query, lang=lang)\n",
    "    embedding = get_embedding(normalized_query)\n",
    "    hashtags = generate_hashtags(normalized_query)\n",
    "    \n",
    "    return {\n",
    "        'original_query': query,\n",
    "        'embedding': embedding,\n",
    "        'hashtags': hashtags\n",
    "    }"
   ],
   "metadata": {
    "id": "nE0tBp26Hd_h"
   },
   "outputs": [],
   "execution_count": null
  },
  {
   "cell_type": "code",
   "source": [
    "if __name__ == \"__main__\":\n",
    "    user_query = \"Пример пользовательского запроса с эмодзи 😊 и другими символами!!!\"\n",
    "    result = process_query(user_query)\n",
    "\n",
    "    print(\"Original query: \", result['original_query'])\n",
    "    print(\"Query embedding: \", result['embedding'])\n",
    "    print(\"Generated hashtags: \", result['hashtags'])"
   ],
   "metadata": {
    "colab": {
     "base_uri": "https://localhost:8080/"
    },
    "id": "-IWdvpz3HmRo",
    "outputId": "7c4f552f-b2e3-4951-cba6-1816b2c45bb6"
   },
   "outputs": [],
   "execution_count": null
  }
 ]
}
