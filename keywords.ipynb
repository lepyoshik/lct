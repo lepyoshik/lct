{
 "nbformat": 4,
 "nbformat_minor": 0,
 "metadata": {
  "colab": {
   "provenance": []
  },
  "kernelspec": {
   "name": "python3",
   "display_name": "Python 3"
  },
  "language_info": {
   "name": "python"
  }
 },
 "cells": [
  {
   "cell_type": "code",
   "source": [
    "import nltk\n",
    "import time\n",
    "from sklearn.feature_extraction.text import TfidfVectorizer\n",
    "from nltk.corpus import stopwords"
   ],
   "metadata": {
    "colab": {
     "base_uri": "https://localhost:8080/"
    },
    "id": "vHi172t2Wjnp",
    "outputId": "89010e44-20da-435e-d550-735f35123ea2"
   },
   "outputs": [],
   "execution_count": null
  },
  {
   "metadata": {},
   "cell_type": "code",
   "outputs": [],
   "execution_count": null,
   "source": [
    "nltk.download('stopwords')\n",
    "stop_words = stopwords.words('russian')"
   ]
  },
  {
   "cell_type": "code",
   "source": "text = \"Съешь ещё этих мягких французских булок да выпей же чаю\"",
   "metadata": {
    "id": "YqcwtvAcWp9j"
   },
   "outputs": [],
   "execution_count": null
  },
  {
   "cell_type": "code",
   "source": [
    "def get_keywords_tfidf(text, n=5):\n",
    "    vectorizer = TfidfVectorizer(stop_words=stop_words)\n",
    "    tfidf_matrix = vectorizer.fit_transform([text])\n",
    "    feature_names = vectorizer.get_feature_names_out()\n",
    "    tfidf_scores = tfidf_matrix.toarray().flatten()\n",
    "    top_n_indices = tfidf_scores.argsort()[-n:][::-1]\n",
    "    top_n_keywords = [feature_names[i] for i in top_n_indices]\n",
    "    return top_n_keywords"
   ],
   "metadata": {
    "id": "UD5hkejPWr_G"
   },
   "outputs": [],
   "execution_count": null
  },
  {
   "cell_type": "code",
   "source": [
    "start_time = time.time()\n",
    "keywords_tfidf = get_keywords_tfidf(text)\n",
    "end_time = time.time()\n",
    "tfidf_duration = end_time - start_time\n",
    "\n",
    "print(\"TF-IDF Keywords: \", keywords_tfidf)\n",
    "print(\"TF-IDF Duration: \", tfidf_duration, \"seconds\")"
   ],
   "metadata": {
    "colab": {
     "base_uri": "https://localhost:8080/"
    },
    "id": "w2LxI5Q_WwuU",
    "outputId": "e214ad8b-ff60-4f36-a600-7ab9b024243c"
   },
   "outputs": [],
   "execution_count": null
  }
 ]
}
